{
 "cells": [
  {
   "cell_type": "code",
   "execution_count": 1,
   "id": "213ffcf0",
   "metadata": {},
   "outputs": [],
   "source": [
    "#Import Libraries\n",
    "import pandas as pd\n",
    "import numpy as np\n",
    "import math  \n",
    "import sklearn.metrics  "
   ]
  },
  {
   "cell_type": "code",
   "execution_count": 2,
   "id": "d41a7ef6",
   "metadata": {},
   "outputs": [],
   "source": [
    "#Read data\n",
    "data_r = pd.read_csv(\"rs.csv\")\n",
    "data_s = pd.read_csv(\"sp.csv\")\n"
   ]
  },
  {
   "cell_type": "code",
   "execution_count": 3,
   "id": "6eb21027",
   "metadata": {},
   "outputs": [],
   "source": [
    "mse = sklearn.metrics.mean_squared_error(data_r, data_s)\n",
    "rmse = math.sqrt(mse)  "
   ]
  },
  {
   "cell_type": "code",
   "execution_count": 4,
   "id": "326a893b",
   "metadata": {},
   "outputs": [
    {
     "name": "stdout",
     "output_type": "stream",
     "text": [
      "RMSE: 0.7672649551422515\n"
     ]
    }
   ],
   "source": [
    "print(\"RMSE:\", rmse)  "
   ]
  },
  {
   "cell_type": "code",
   "execution_count": null,
   "id": "b4ea2c0b",
   "metadata": {},
   "outputs": [],
   "source": []
  }
 ],
 "metadata": {
  "kernelspec": {
   "display_name": "Python 3 (ipykernel)",
   "language": "python",
   "name": "python3"
  },
  "language_info": {
   "codemirror_mode": {
    "name": "ipython",
    "version": 3
   },
   "file_extension": ".py",
   "mimetype": "text/x-python",
   "name": "python",
   "nbconvert_exporter": "python",
   "pygments_lexer": "ipython3",
   "version": "3.9.12"
  }
 },
 "nbformat": 4,
 "nbformat_minor": 5
}
