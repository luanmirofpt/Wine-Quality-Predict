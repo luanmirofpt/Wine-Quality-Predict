{
 "cells": [
  {
   "cell_type": "code",
   "execution_count": 1,
   "id": "96d40c32",
   "metadata": {},
   "outputs": [],
   "source": [
    "#Import Libraries\n",
    "import pandas as pd\n",
    "import numpy as np\n",
    "import matplotlib.pyplot as plt\n",
    "import seaborn as sns\n"
   ]
  },
  {
   "cell_type": "code",
   "execution_count": 2,
   "id": "2379ed07",
   "metadata": {},
   "outputs": [],
   "source": [
    "#Read data\n",
    "data = pd.read_csv(\"train.csv\", sep = \";\")"
   ]
  },
  {
   "cell_type": "code",
   "execution_count": 3,
   "id": "cbbd0bb4",
   "metadata": {
    "scrolled": true
   },
   "outputs": [
    {
     "data": {
      "text/html": [
       "<div>\n",
       "<style scoped>\n",
       "    .dataframe tbody tr th:only-of-type {\n",
       "        vertical-align: middle;\n",
       "    }\n",
       "\n",
       "    .dataframe tbody tr th {\n",
       "        vertical-align: top;\n",
       "    }\n",
       "\n",
       "    .dataframe thead th {\n",
       "        text-align: right;\n",
       "    }\n",
       "</style>\n",
       "<table border=\"1\" class=\"dataframe\">\n",
       "  <thead>\n",
       "    <tr style=\"text-align: right;\">\n",
       "      <th></th>\n",
       "      <th>fixed acidity</th>\n",
       "      <th>volatile acidity</th>\n",
       "      <th>citric acid</th>\n",
       "      <th>residual sugar</th>\n",
       "      <th>chlorides</th>\n",
       "      <th>free sulfur dioxide</th>\n",
       "      <th>total sulfur dioxide</th>\n",
       "      <th>density</th>\n",
       "      <th>pH</th>\n",
       "      <th>sulphates</th>\n",
       "      <th>alcohol</th>\n",
       "      <th>quality</th>\n",
       "      <th>type</th>\n",
       "    </tr>\n",
       "  </thead>\n",
       "  <tbody>\n",
       "    <tr>\n",
       "      <th>0</th>\n",
       "      <td>6.6</td>\n",
       "      <td>0.3</td>\n",
       "      <td>0.36</td>\n",
       "      <td>1.2</td>\n",
       "      <td>0.035</td>\n",
       "      <td>43</td>\n",
       "      <td>126</td>\n",
       "      <td>0.9909</td>\n",
       "      <td>3.01</td>\n",
       "      <td>0.63</td>\n",
       "      <td>11.4</td>\n",
       "      <td>6</td>\n",
       "      <td>white</td>\n",
       "    </tr>\n",
       "    <tr>\n",
       "      <th>1</th>\n",
       "      <td>7.7</td>\n",
       "      <td>0.5</td>\n",
       "      <td>0.26</td>\n",
       "      <td>1.9</td>\n",
       "      <td>0.062</td>\n",
       "      <td>9</td>\n",
       "      <td>31</td>\n",
       "      <td>0.9966</td>\n",
       "      <td>3.39</td>\n",
       "      <td>0.64</td>\n",
       "      <td>9.6</td>\n",
       "      <td>5</td>\n",
       "      <td>red</td>\n",
       "    </tr>\n",
       "    <tr>\n",
       "      <th>2</th>\n",
       "      <td>8.4</td>\n",
       "      <td>0.5</td>\n",
       "      <td>0.35</td>\n",
       "      <td>2.9</td>\n",
       "      <td>0.076</td>\n",
       "      <td>21</td>\n",
       "      <td>127</td>\n",
       "      <td>0.9976</td>\n",
       "      <td>3.23</td>\n",
       "      <td>0.63</td>\n",
       "      <td>9.2</td>\n",
       "      <td>5</td>\n",
       "      <td>red</td>\n",
       "    </tr>\n",
       "    <tr>\n",
       "      <th>3</th>\n",
       "      <td>7.5</td>\n",
       "      <td>0.4</td>\n",
       "      <td>0.33</td>\n",
       "      <td>5.0</td>\n",
       "      <td>0.045</td>\n",
       "      <td>30</td>\n",
       "      <td>131</td>\n",
       "      <td>0.9942</td>\n",
       "      <td>3.32</td>\n",
       "      <td>0.44</td>\n",
       "      <td>10.9</td>\n",
       "      <td>6</td>\n",
       "      <td>white</td>\n",
       "    </tr>\n",
       "    <tr>\n",
       "      <th>4</th>\n",
       "      <td>6.4</td>\n",
       "      <td>0.2</td>\n",
       "      <td>0.25</td>\n",
       "      <td>20.2</td>\n",
       "      <td>0.083</td>\n",
       "      <td>35</td>\n",
       "      <td>157</td>\n",
       "      <td>0.9998</td>\n",
       "      <td>3.17</td>\n",
       "      <td>0.50</td>\n",
       "      <td>9.1</td>\n",
       "      <td>5</td>\n",
       "      <td>white</td>\n",
       "    </tr>\n",
       "  </tbody>\n",
       "</table>\n",
       "</div>"
      ],
      "text/plain": [
       "   fixed acidity  volatile acidity  citric acid  residual sugar  chlorides  \\\n",
       "0            6.6               0.3         0.36             1.2      0.035   \n",
       "1            7.7               0.5         0.26             1.9      0.062   \n",
       "2            8.4               0.5         0.35             2.9      0.076   \n",
       "3            7.5               0.4         0.33             5.0      0.045   \n",
       "4            6.4               0.2         0.25            20.2      0.083   \n",
       "\n",
       "   free sulfur dioxide  total sulfur dioxide  density    pH  sulphates  \\\n",
       "0                   43                   126   0.9909  3.01       0.63   \n",
       "1                    9                    31   0.9966  3.39       0.64   \n",
       "2                   21                   127   0.9976  3.23       0.63   \n",
       "3                   30                   131   0.9942  3.32       0.44   \n",
       "4                   35                   157   0.9998  3.17       0.50   \n",
       "\n",
       "   alcohol  quality   type  \n",
       "0     11.4        6  white  \n",
       "1      9.6        5    red  \n",
       "2      9.2        5    red  \n",
       "3     10.9        6  white  \n",
       "4      9.1        5  white  "
      ]
     },
     "execution_count": 3,
     "metadata": {},
     "output_type": "execute_result"
    }
   ],
   "source": [
    "data.head()"
   ]
  },
  {
   "cell_type": "code",
   "execution_count": 4,
   "id": "7c45d128",
   "metadata": {},
   "outputs": [],
   "source": [
    "#Change Type to bit\n",
    "data.type = data.type.apply(lambda x : x.replace(\"white\",\"1\"))\n",
    "data.type = data.type.apply(lambda x : x.replace(\"red\",\"0\"))"
   ]
  },
  {
   "cell_type": "code",
   "execution_count": 5,
   "id": "7cc5d202",
   "metadata": {},
   "outputs": [
    {
     "name": "stdout",
     "output_type": "stream",
     "text": [
      "<class 'pandas.core.frame.DataFrame'>\n",
      "RangeIndex: 6714 entries, 0 to 6713\n",
      "Data columns (total 13 columns):\n",
      " #   Column                Non-Null Count  Dtype  \n",
      "---  ------                --------------  -----  \n",
      " 0   fixed acidity         6714 non-null   float64\n",
      " 1   volatile acidity      6714 non-null   float64\n",
      " 2   citric acid           6714 non-null   float64\n",
      " 3   residual sugar        6714 non-null   float64\n",
      " 4   chlorides             6714 non-null   float64\n",
      " 5   free sulfur dioxide   6714 non-null   int64  \n",
      " 6   total sulfur dioxide  6714 non-null   int64  \n",
      " 7   density               6714 non-null   float64\n",
      " 8   pH                    6714 non-null   float64\n",
      " 9   sulphates             6714 non-null   float64\n",
      " 10  alcohol               6714 non-null   float64\n",
      " 11  quality               6714 non-null   int64  \n",
      " 12  type                  6714 non-null   object \n",
      "dtypes: float64(9), int64(3), object(1)\n",
      "memory usage: 682.0+ KB\n"
     ]
    }
   ],
   "source": [
    "#Check missing data\n",
    "data.info()"
   ]
  },
  {
   "cell_type": "code",
   "execution_count": 6,
   "id": "6b549a4b",
   "metadata": {},
   "outputs": [],
   "source": [
    "data_w = data[data.type == '1']\n",
    "data_r = data[data.type == '0']"
   ]
  },
  {
   "cell_type": "code",
   "execution_count": 7,
   "id": "614b43be",
   "metadata": {},
   "outputs": [
    {
     "data": {
      "text/html": [
       "<div>\n",
       "<style scoped>\n",
       "    .dataframe tbody tr th:only-of-type {\n",
       "        vertical-align: middle;\n",
       "    }\n",
       "\n",
       "    .dataframe tbody tr th {\n",
       "        vertical-align: top;\n",
       "    }\n",
       "\n",
       "    .dataframe thead th {\n",
       "        text-align: right;\n",
       "    }\n",
       "</style>\n",
       "<table border=\"1\" class=\"dataframe\">\n",
       "  <thead>\n",
       "    <tr style=\"text-align: right;\">\n",
       "      <th></th>\n",
       "      <th>fixed acidity</th>\n",
       "      <th>volatile acidity</th>\n",
       "      <th>citric acid</th>\n",
       "      <th>residual sugar</th>\n",
       "      <th>chlorides</th>\n",
       "      <th>free sulfur dioxide</th>\n",
       "      <th>total sulfur dioxide</th>\n",
       "      <th>density</th>\n",
       "      <th>pH</th>\n",
       "      <th>sulphates</th>\n",
       "      <th>alcohol</th>\n",
       "      <th>quality</th>\n",
       "    </tr>\n",
       "  </thead>\n",
       "  <tbody>\n",
       "    <tr>\n",
       "      <th>count</th>\n",
       "      <td>4933.000000</td>\n",
       "      <td>4933.000000</td>\n",
       "      <td>4933.000000</td>\n",
       "      <td>4933.000000</td>\n",
       "      <td>4933.000000</td>\n",
       "      <td>4933.000000</td>\n",
       "      <td>4933.000000</td>\n",
       "      <td>4933.000000</td>\n",
       "      <td>4933.000000</td>\n",
       "      <td>4933.000000</td>\n",
       "      <td>4933.000000</td>\n",
       "      <td>4933.000000</td>\n",
       "    </tr>\n",
       "    <tr>\n",
       "      <th>mean</th>\n",
       "      <td>6.849382</td>\n",
       "      <td>0.281918</td>\n",
       "      <td>0.334981</td>\n",
       "      <td>6.450780</td>\n",
       "      <td>0.045699</td>\n",
       "      <td>35.326171</td>\n",
       "      <td>138.253598</td>\n",
       "      <td>0.994027</td>\n",
       "      <td>3.186986</td>\n",
       "      <td>0.489507</td>\n",
       "      <td>10.521589</td>\n",
       "      <td>5.869856</td>\n",
       "    </tr>\n",
       "    <tr>\n",
       "      <th>std</th>\n",
       "      <td>0.834424</td>\n",
       "      <td>0.103279</td>\n",
       "      <td>0.122993</td>\n",
       "      <td>5.087312</td>\n",
       "      <td>0.021556</td>\n",
       "      <td>16.810452</td>\n",
       "      <td>42.441591</td>\n",
       "      <td>0.003004</td>\n",
       "      <td>0.150308</td>\n",
       "      <td>0.114162</td>\n",
       "      <td>1.232956</td>\n",
       "      <td>0.893389</td>\n",
       "    </tr>\n",
       "    <tr>\n",
       "      <th>min</th>\n",
       "      <td>3.800000</td>\n",
       "      <td>0.100000</td>\n",
       "      <td>0.000000</td>\n",
       "      <td>0.600000</td>\n",
       "      <td>0.009000</td>\n",
       "      <td>2.000000</td>\n",
       "      <td>9.000000</td>\n",
       "      <td>0.987100</td>\n",
       "      <td>2.720000</td>\n",
       "      <td>0.220000</td>\n",
       "      <td>8.000000</td>\n",
       "      <td>3.000000</td>\n",
       "    </tr>\n",
       "    <tr>\n",
       "      <th>25%</th>\n",
       "      <td>6.300000</td>\n",
       "      <td>0.200000</td>\n",
       "      <td>0.270000</td>\n",
       "      <td>1.700000</td>\n",
       "      <td>0.036000</td>\n",
       "      <td>23.000000</td>\n",
       "      <td>108.000000</td>\n",
       "      <td>0.991700</td>\n",
       "      <td>3.080000</td>\n",
       "      <td>0.410000</td>\n",
       "      <td>9.500000</td>\n",
       "      <td>5.000000</td>\n",
       "    </tr>\n",
       "    <tr>\n",
       "      <th>50%</th>\n",
       "      <td>6.800000</td>\n",
       "      <td>0.300000</td>\n",
       "      <td>0.310000</td>\n",
       "      <td>5.300000</td>\n",
       "      <td>0.043000</td>\n",
       "      <td>34.000000</td>\n",
       "      <td>134.000000</td>\n",
       "      <td>0.993700</td>\n",
       "      <td>3.170000</td>\n",
       "      <td>0.480000</td>\n",
       "      <td>10.400000</td>\n",
       "      <td>6.000000</td>\n",
       "    </tr>\n",
       "    <tr>\n",
       "      <th>75%</th>\n",
       "      <td>7.300000</td>\n",
       "      <td>0.300000</td>\n",
       "      <td>0.390000</td>\n",
       "      <td>9.900000</td>\n",
       "      <td>0.050000</td>\n",
       "      <td>46.000000</td>\n",
       "      <td>167.000000</td>\n",
       "      <td>0.996100</td>\n",
       "      <td>3.280000</td>\n",
       "      <td>0.550000</td>\n",
       "      <td>11.400000</td>\n",
       "      <td>6.000000</td>\n",
       "    </tr>\n",
       "    <tr>\n",
       "      <th>max</th>\n",
       "      <td>14.200000</td>\n",
       "      <td>1.100000</td>\n",
       "      <td>1.660000</td>\n",
       "      <td>65.800000</td>\n",
       "      <td>0.346000</td>\n",
       "      <td>289.000000</td>\n",
       "      <td>440.000000</td>\n",
       "      <td>1.039000</td>\n",
       "      <td>3.820000</td>\n",
       "      <td>1.080000</td>\n",
       "      <td>14.200000</td>\n",
       "      <td>9.000000</td>\n",
       "    </tr>\n",
       "  </tbody>\n",
       "</table>\n",
       "</div>"
      ],
      "text/plain": [
       "       fixed acidity  volatile acidity  citric acid  residual sugar  \\\n",
       "count    4933.000000       4933.000000  4933.000000     4933.000000   \n",
       "mean        6.849382          0.281918     0.334981        6.450780   \n",
       "std         0.834424          0.103279     0.122993        5.087312   \n",
       "min         3.800000          0.100000     0.000000        0.600000   \n",
       "25%         6.300000          0.200000     0.270000        1.700000   \n",
       "50%         6.800000          0.300000     0.310000        5.300000   \n",
       "75%         7.300000          0.300000     0.390000        9.900000   \n",
       "max        14.200000          1.100000     1.660000       65.800000   \n",
       "\n",
       "         chlorides  free sulfur dioxide  total sulfur dioxide      density  \\\n",
       "count  4933.000000          4933.000000           4933.000000  4933.000000   \n",
       "mean      0.045699            35.326171            138.253598     0.994027   \n",
       "std       0.021556            16.810452             42.441591     0.003004   \n",
       "min       0.009000             2.000000              9.000000     0.987100   \n",
       "25%       0.036000            23.000000            108.000000     0.991700   \n",
       "50%       0.043000            34.000000            134.000000     0.993700   \n",
       "75%       0.050000            46.000000            167.000000     0.996100   \n",
       "max       0.346000           289.000000            440.000000     1.039000   \n",
       "\n",
       "                pH    sulphates      alcohol      quality  \n",
       "count  4933.000000  4933.000000  4933.000000  4933.000000  \n",
       "mean      3.186986     0.489507    10.521589     5.869856  \n",
       "std       0.150308     0.114162     1.232956     0.893389  \n",
       "min       2.720000     0.220000     8.000000     3.000000  \n",
       "25%       3.080000     0.410000     9.500000     5.000000  \n",
       "50%       3.170000     0.480000    10.400000     6.000000  \n",
       "75%       3.280000     0.550000    11.400000     6.000000  \n",
       "max       3.820000     1.080000    14.200000     9.000000  "
      ]
     },
     "execution_count": 7,
     "metadata": {},
     "output_type": "execute_result"
    }
   ],
   "source": [
    "#describe data\n",
    "data_w.describe()"
   ]
  },
  {
   "cell_type": "code",
   "execution_count": 8,
   "id": "dad5fe91",
   "metadata": {},
   "outputs": [
    {
     "data": {
      "text/html": [
       "<div>\n",
       "<style scoped>\n",
       "    .dataframe tbody tr th:only-of-type {\n",
       "        vertical-align: middle;\n",
       "    }\n",
       "\n",
       "    .dataframe tbody tr th {\n",
       "        vertical-align: top;\n",
       "    }\n",
       "\n",
       "    .dataframe thead th {\n",
       "        text-align: right;\n",
       "    }\n",
       "</style>\n",
       "<table border=\"1\" class=\"dataframe\">\n",
       "  <thead>\n",
       "    <tr style=\"text-align: right;\">\n",
       "      <th></th>\n",
       "      <th>fixed acidity</th>\n",
       "      <th>volatile acidity</th>\n",
       "      <th>citric acid</th>\n",
       "      <th>residual sugar</th>\n",
       "      <th>chlorides</th>\n",
       "      <th>free sulfur dioxide</th>\n",
       "      <th>total sulfur dioxide</th>\n",
       "      <th>density</th>\n",
       "      <th>pH</th>\n",
       "      <th>sulphates</th>\n",
       "      <th>alcohol</th>\n",
       "      <th>quality</th>\n",
       "    </tr>\n",
       "  </thead>\n",
       "  <tbody>\n",
       "    <tr>\n",
       "      <th>count</th>\n",
       "      <td>1781.000000</td>\n",
       "      <td>1781.000000</td>\n",
       "      <td>1781.000000</td>\n",
       "      <td>1781.000000</td>\n",
       "      <td>1781.000000</td>\n",
       "      <td>1781.000000</td>\n",
       "      <td>1781.000000</td>\n",
       "      <td>1781.000000</td>\n",
       "      <td>1781.000000</td>\n",
       "      <td>1781.000000</td>\n",
       "      <td>1781.000000</td>\n",
       "      <td>1781.000000</td>\n",
       "    </tr>\n",
       "    <tr>\n",
       "      <th>mean</th>\n",
       "      <td>8.365806</td>\n",
       "      <td>0.532678</td>\n",
       "      <td>0.268956</td>\n",
       "      <td>2.534307</td>\n",
       "      <td>0.090209</td>\n",
       "      <td>15.747333</td>\n",
       "      <td>48.994947</td>\n",
       "      <td>0.996900</td>\n",
       "      <td>3.308063</td>\n",
       "      <td>0.665227</td>\n",
       "      <td>10.284672</td>\n",
       "      <td>5.591802</td>\n",
       "    </tr>\n",
       "    <tr>\n",
       "      <th>std</th>\n",
       "      <td>1.748053</td>\n",
       "      <td>0.176925</td>\n",
       "      <td>0.196037</td>\n",
       "      <td>1.310557</td>\n",
       "      <td>0.052463</td>\n",
       "      <td>10.298039</td>\n",
       "      <td>33.997430</td>\n",
       "      <td>0.001824</td>\n",
       "      <td>0.155118</td>\n",
       "      <td>0.187593</td>\n",
       "      <td>1.042424</td>\n",
       "      <td>0.821837</td>\n",
       "    </tr>\n",
       "    <tr>\n",
       "      <th>min</th>\n",
       "      <td>4.600000</td>\n",
       "      <td>0.100000</td>\n",
       "      <td>0.000000</td>\n",
       "      <td>0.900000</td>\n",
       "      <td>0.012000</td>\n",
       "      <td>1.000000</td>\n",
       "      <td>6.000000</td>\n",
       "      <td>0.990100</td>\n",
       "      <td>2.740000</td>\n",
       "      <td>0.320000</td>\n",
       "      <td>8.400000</td>\n",
       "      <td>3.000000</td>\n",
       "    </tr>\n",
       "    <tr>\n",
       "      <th>25%</th>\n",
       "      <td>7.200000</td>\n",
       "      <td>0.400000</td>\n",
       "      <td>0.090000</td>\n",
       "      <td>1.900000</td>\n",
       "      <td>0.072000</td>\n",
       "      <td>8.000000</td>\n",
       "      <td>23.000000</td>\n",
       "      <td>0.995900</td>\n",
       "      <td>3.200000</td>\n",
       "      <td>0.550000</td>\n",
       "      <td>9.500000</td>\n",
       "      <td>5.000000</td>\n",
       "    </tr>\n",
       "    <tr>\n",
       "      <th>50%</th>\n",
       "      <td>7.900000</td>\n",
       "      <td>0.500000</td>\n",
       "      <td>0.250000</td>\n",
       "      <td>2.200000</td>\n",
       "      <td>0.080000</td>\n",
       "      <td>13.000000</td>\n",
       "      <td>40.000000</td>\n",
       "      <td>0.996900</td>\n",
       "      <td>3.310000</td>\n",
       "      <td>0.620000</td>\n",
       "      <td>10.000000</td>\n",
       "      <td>5.000000</td>\n",
       "    </tr>\n",
       "    <tr>\n",
       "      <th>75%</th>\n",
       "      <td>9.200000</td>\n",
       "      <td>0.600000</td>\n",
       "      <td>0.430000</td>\n",
       "      <td>2.600000</td>\n",
       "      <td>0.092000</td>\n",
       "      <td>21.000000</td>\n",
       "      <td>65.000000</td>\n",
       "      <td>0.997900</td>\n",
       "      <td>3.400000</td>\n",
       "      <td>0.740000</td>\n",
       "      <td>10.900000</td>\n",
       "      <td>6.000000</td>\n",
       "    </tr>\n",
       "    <tr>\n",
       "      <th>max</th>\n",
       "      <td>15.900000</td>\n",
       "      <td>1.300000</td>\n",
       "      <td>1.010000</td>\n",
       "      <td>13.800000</td>\n",
       "      <td>0.611000</td>\n",
       "      <td>72.000000</td>\n",
       "      <td>289.000000</td>\n",
       "      <td>1.003200</td>\n",
       "      <td>4.010000</td>\n",
       "      <td>2.000000</td>\n",
       "      <td>14.900000</td>\n",
       "      <td>8.000000</td>\n",
       "    </tr>\n",
       "  </tbody>\n",
       "</table>\n",
       "</div>"
      ],
      "text/plain": [
       "       fixed acidity  volatile acidity  citric acid  residual sugar  \\\n",
       "count    1781.000000       1781.000000  1781.000000     1781.000000   \n",
       "mean        8.365806          0.532678     0.268956        2.534307   \n",
       "std         1.748053          0.176925     0.196037        1.310557   \n",
       "min         4.600000          0.100000     0.000000        0.900000   \n",
       "25%         7.200000          0.400000     0.090000        1.900000   \n",
       "50%         7.900000          0.500000     0.250000        2.200000   \n",
       "75%         9.200000          0.600000     0.430000        2.600000   \n",
       "max        15.900000          1.300000     1.010000       13.800000   \n",
       "\n",
       "         chlorides  free sulfur dioxide  total sulfur dioxide      density  \\\n",
       "count  1781.000000          1781.000000           1781.000000  1781.000000   \n",
       "mean      0.090209            15.747333             48.994947     0.996900   \n",
       "std       0.052463            10.298039             33.997430     0.001824   \n",
       "min       0.012000             1.000000              6.000000     0.990100   \n",
       "25%       0.072000             8.000000             23.000000     0.995900   \n",
       "50%       0.080000            13.000000             40.000000     0.996900   \n",
       "75%       0.092000            21.000000             65.000000     0.997900   \n",
       "max       0.611000            72.000000            289.000000     1.003200   \n",
       "\n",
       "                pH    sulphates      alcohol      quality  \n",
       "count  1781.000000  1781.000000  1781.000000  1781.000000  \n",
       "mean      3.308063     0.665227    10.284672     5.591802  \n",
       "std       0.155118     0.187593     1.042424     0.821837  \n",
       "min       2.740000     0.320000     8.400000     3.000000  \n",
       "25%       3.200000     0.550000     9.500000     5.000000  \n",
       "50%       3.310000     0.620000    10.000000     5.000000  \n",
       "75%       3.400000     0.740000    10.900000     6.000000  \n",
       "max       4.010000     2.000000    14.900000     8.000000  "
      ]
     },
     "execution_count": 8,
     "metadata": {},
     "output_type": "execute_result"
    }
   ],
   "source": [
    "data_r.describe()"
   ]
  },
  {
   "cell_type": "code",
   "execution_count": 9,
   "id": "6f1addbf",
   "metadata": {
    "scrolled": true
   },
   "outputs": [
    {
     "data": {
      "text/plain": [
       "<seaborn.axisgrid.FacetGrid at 0x225432fa5e0>"
      ]
     },
     "execution_count": 9,
     "metadata": {},
     "output_type": "execute_result"
    },
    {
     "data": {
      "image/png": "[encoded data removed]",
      "text/plain": [
       "<Figure size 360x360 with 1 Axes>"
      ]
     },
     "metadata": {
      "needs_background": "light"
     },
     "output_type": "display_data"
    }
   ],
   "source": [
    "# number of values for each quality\n",
    "sns.catplot(x='quality', data = data_w, kind = 'count')"
   ]
  },
  {
   "cell_type": "code",
   "execution_count": 10,
   "id": "7f5fb464",
   "metadata": {},
   "outputs": [
    {
     "data": {
      "text/plain": [
       "<seaborn.axisgrid.FacetGrid at 0x22546206a60>"
      ]
     },
     "execution_count": 10,
     "metadata": {},
     "output_type": "execute_result"
    },
    {
     "data": {
      "image/png": "[encoded data removed]",
      "text/plain": [
       "<Figure size 360x360 with 1 Axes>"
      ]
     },
     "metadata": {
      "needs_background": "light"
     },
     "output_type": "display_data"
    }
   ],
   "source": [
    "sns.catplot(x='quality', data = data_r, kind = 'count')"
   ]
  },
  {
   "cell_type": "code",
   "execution_count": 11,
   "id": "e9102d1f",
   "metadata": {},
   "outputs": [],
   "source": [
    "#correlation\n",
    "correlation_w = data_w.corr()\n",
    "correlation_r = data_r.corr()"
   ]
  },
  {
   "cell_type": "code",
   "execution_count": 12,
   "id": "a4b02ab6",
   "metadata": {},
   "outputs": [
    {
     "data": {
      "text/plain": [
       "<AxesSubplot:>"
      ]
     },
     "execution_count": 12,
     "metadata": {},
     "output_type": "execute_result"
    },
    {
     "data": {
      "image/png": "[encoded data removed]",
      "text/plain": [
       "<Figure size 720x720 with 2 Axes>"
      ]
     },
     "metadata": {
      "needs_background": "light"
     },
     "output_type": "display_data"
    }
   ],
   "source": [
    "plt.figure(figsize=(10,10))\n",
    "sns.heatmap(correlation_w, cbar=True, square=True, fmt = '.1f', annot = True, annot_kws={'size':10}, cmap = 'Blues')"
   ]
  },
  {
   "cell_type": "code",
   "execution_count": 13,
   "id": "d43e48eb",
   "metadata": {},
   "outputs": [
    {
     "data": {
      "text/plain": [
       "<AxesSubplot:>"
      ]
     },
     "execution_count": 13,
     "metadata": {},
     "output_type": "execute_result"
    },
    {
     "data": {
      "image/png": "[encoded data removed]",
      "text/plain": [
       "<Figure size 720x720 with 2 Axes>"
      ]
     },
     "metadata": {
      "needs_background": "light"
     },
     "output_type": "display_data"
    }
   ],
   "source": [
    "plt.figure(figsize=(10,10))\n",
    "sns.heatmap(correlation_r, cbar=True, square=True, fmt = '.1f', annot = True, annot_kws={'size':10}, cmap = 'Blues')"
   ]
  },
  {
   "cell_type": "code",
   "execution_count": 14,
   "id": "53be51f1",
   "metadata": {},
   "outputs": [],
   "source": [
    "#selection data\n",
    "x_w = data_w.drop('quality',axis = 1)\n",
    "y_w = data_w['quality']\n",
    "x_r = data_r.drop('quality',axis = 1)\n",
    "y_r = data_r['quality']"
   ]
  },
  {
   "cell_type": "code",
   "execution_count": 15,
   "id": "3212ce7d",
   "metadata": {},
   "outputs": [],
   "source": [
    "#read data to test\n",
    "test = pd.read_csv(\"test.csv\", sep = \";\")"
   ]
  },
  {
   "cell_type": "code",
   "execution_count": 16,
   "id": "696fb12e",
   "metadata": {},
   "outputs": [],
   "source": [
    "test.type = test.type.apply(lambda x : x.replace(\"white\",\"1\"))\n",
    "test.type = test.type.apply(lambda x : x.replace(\"red\",\"0\"))"
   ]
  },
  {
   "cell_type": "code",
   "execution_count": 17,
   "id": "dc1f42b4",
   "metadata": {},
   "outputs": [],
   "source": [
    "test_w = test[test.type == '1']\n",
    "test_r = test[test.type == '0']"
   ]
  },
  {
   "cell_type": "code",
   "execution_count": 18,
   "id": "03794ac3",
   "metadata": {},
   "outputs": [],
   "source": [
    "#selection data\n",
    "idt_w = test_w['id']\n",
    "xt_w = test_w.drop('id',axis = 1)\n",
    "idt_r = test_r['id']\n",
    "xt_r = test_r.drop('id',axis = 1)"
   ]
  },
  {
   "cell_type": "code",
   "execution_count": 19,
   "id": "cea9e226",
   "metadata": {},
   "outputs": [],
   "source": [
    "# Split data to train and test\n",
    "from sklearn.model_selection import train_test_split\n",
    "x_w_train,x_w_valid,y_w_train,y_w_valid= train_test_split(x_w,y_w,train_size =0.85,test_size=0.15,random_state = 0)"
   ]
  },
  {
   "cell_type": "code",
   "execution_count": 20,
   "id": "3c5bfdbc",
   "metadata": {},
   "outputs": [],
   "source": [
    "from sklearn.model_selection import train_test_split\n",
    "x_r_train,x_r_valid,y_r_train,y_r_valid= train_test_split(x_r,y_r,train_size =0.85,test_size=0.15,random_state = 0)"
   ]
  },
  {
   "cell_type": "code",
   "execution_count": 21,
   "id": "7816b000",
   "metadata": {},
   "outputs": [],
   "source": [
    "#normalization data\n",
    "from sklearn.preprocessing import MinMaxScaler\n",
    "# creating normalization object \n",
    "norm = MinMaxScaler()\n",
    "# fit data\n",
    "norm_w_fit = norm.fit(x_w_train)\n",
    "new_x_w_train = norm_w_fit.transform(x_w_train)\n",
    "new_x_w_test = norm_w_fit.transform(x_w_valid)\n",
    "new_xt_w = norm_w_fit.transform(xt_w)"
   ]
  },
  {
   "cell_type": "code",
   "execution_count": 22,
   "id": "67d2f17c",
   "metadata": {},
   "outputs": [],
   "source": [
    "#normalization data\n",
    "from sklearn.preprocessing import MinMaxScaler\n",
    "# creating normalization object \n",
    "norm = MinMaxScaler()\n",
    "# fit data\n",
    "norm_r_fit = norm.fit(x_r_train)\n",
    "new_x_r_train = norm_r_fit.transform(x_r_train)\n",
    "new_x_r_test = norm_r_fit.transform(x_r_valid)\n",
    "new_xt_r = norm_r_fit.transform(xt_r)"
   ]
  },
  {
   "cell_type": "code",
   "execution_count": 23,
   "id": "d76871a0",
   "metadata": {},
   "outputs": [],
   "source": [
    "### Training model"
   ]
  },
  {
   "cell_type": "code",
   "execution_count": 68,
   "id": "d5120d46",
   "metadata": {},
   "outputs": [],
   "source": [
    "#model RandomForestRegressor\n",
    "## w = random_state=29,n_estimators = 88,criterion='friedman_mse',max_depth = 30,max_features = 5\n",
    "## r = random_state=37,n_estimators = 86,criterion='friedman_mse',max_depth = 25,max_features = 4\n",
    "from sklearn.ensemble import RandomForestRegressor, GradientBoostingRegressor\n",
    "rf_w_model = RandomForestRegressor(random_state=29,n_estimators = 88,criterion='friedman_mse',max_depth = 30,max_features = 5)\n",
    "#n_estimators=100, *, criterion='squared_error', max_depth=None, min_samples_split=2, min_samples_leaf=1, \n",
    "#min_weight_fraction_leaf=0.0, max_features=1.0, max_leaf_nodes=None, min_impurity_decrease=0.0, bootstrap=True, \n",
    "#oob_score=False, n_jobs=None, random_state=None, verbose=0, warm_start=False, ccp_alpha=0.0, max_samples=None"
   ]
  },
  {
   "cell_type": "code",
   "execution_count": 69,
   "id": "68421782",
   "metadata": {},
   "outputs": [
    {
     "data": {
      "text/plain": [
       "RandomForestRegressor(criterion='friedman_mse', max_depth=30, max_features=5,\n",
       "                      n_estimators=88, random_state=29)"
      ]
     },
     "execution_count": 69,
     "metadata": {},
     "output_type": "execute_result"
    }
   ],
   "source": [
    "#fit training data\n",
    "rf_w_model.fit(new_x_w_train,y_w_train)"
   ]
  },
  {
   "cell_type": "code",
   "execution_count": 70,
   "id": "c2312a83",
   "metadata": {},
   "outputs": [],
   "source": [
    "y_w_rf_predict = rf_w_model.predict(new_xt_w)"
   ]
  },
  {
   "cell_type": "code",
   "execution_count": 71,
   "id": "d1dc0d4e",
   "metadata": {},
   "outputs": [],
   "source": [
    "df_w = pd.DataFrame({'id':idt_w,'quality':y_w_rf_predict})"
   ]
  },
  {
   "cell_type": "code",
   "execution_count": 72,
   "id": "e37b9bdc",
   "metadata": {},
   "outputs": [],
   "source": [
    "from sklearn.ensemble import RandomForestRegressor,GradientBoostingRegressor\n",
    "rf_r_model = RandomForestRegressor(random_state=37,n_estimators = 86,criterion='friedman_mse',max_depth = 25,max_features = 4)"
   ]
  },
  {
   "cell_type": "code",
   "execution_count": 73,
   "id": "b8f800fb",
   "metadata": {},
   "outputs": [
    {
     "data": {
      "text/plain": [
       "RandomForestRegressor(criterion='friedman_mse', max_depth=25, max_features=4,\n",
       "                      n_estimators=86, random_state=37)"
      ]
     },
     "execution_count": 73,
     "metadata": {},
     "output_type": "execute_result"
    }
   ],
   "source": [
    "rf_r_model.fit(new_x_r_train,y_r_train)"
   ]
  },
  {
   "cell_type": "code",
   "execution_count": 74,
   "id": "c4a3b996",
   "metadata": {},
   "outputs": [],
   "source": [
    "y_r_rf_predict = rf_r_model.predict(new_xt_r)"
   ]
  },
  {
   "cell_type": "code",
   "execution_count": 75,
   "id": "d53d7a63",
   "metadata": {},
   "outputs": [],
   "source": [
    "df_r = pd.DataFrame({'id':idt_r,'quality':y_r_rf_predict})"
   ]
  },
  {
   "cell_type": "code",
   "execution_count": 76,
   "id": "7e662e99",
   "metadata": {},
   "outputs": [],
   "source": [
    "fn_df = pd.concat([df_w,df_r])"
   ]
  },
  {
   "cell_type": "code",
   "execution_count": 77,
   "id": "9bc11fd5",
   "metadata": {},
   "outputs": [],
   "source": [
    "fn_df = fn_df.sort_values('id')"
   ]
  },
  {
   "cell_type": "code",
   "execution_count": 78,
   "id": "62c79619",
   "metadata": {},
   "outputs": [],
   "source": [
    "fn_df.to_csv(\"sm_rf_wr.csv\",index=False)"
   ]
  },
  {
   "cell_type": "code",
   "execution_count": 79,
   "id": "3a2d6933",
   "metadata": {},
   "outputs": [],
   "source": [
    "import math  \n",
    "import sklearn.metrics  "
   ]
  },
  {
   "cell_type": "code",
   "execution_count": 36,
   "id": "3de8e696",
   "metadata": {},
   "outputs": [],
   "source": [
    "data_result = pd.read_csv(\"check.csv\")"
   ]
  },
  {
   "cell_type": "code",
   "execution_count": 45,
   "id": "44caeda7",
   "metadata": {},
   "outputs": [
    {
     "name": "stdout",
     "output_type": "stream",
     "text": [
      "max_features_w: 1 \\max_features_r: 1 \\RMSE: 0.7846150123391907\n",
      "max_features_w: 1 \\max_features_r: 2 \\RMSE: 0.7836645707567218\n",
      "max_features_w: 1 \\max_features_r: 3 \\RMSE: 0.7830012605304192\n",
      "max_features_w: 1 \\max_features_r: 4 \\RMSE: 0.7827088907644865\n",
      "max_features_w: 1 \\max_features_r: 5 \\RMSE: 0.7848606807780335\n",
      "max_features_w: 1 \\max_features_r: 6 \\RMSE: 0.7855166411424215\n",
      "max_features_w: 1 \\max_features_r: 7 \\RMSE: 0.7843486325016626\n",
      "max_features_w: 1 \\max_features_r: 8 \\RMSE: 0.7859757301261702\n",
      "max_features_w: 1 \\max_features_r: 9 \\RMSE: 0.7875646562852894\n",
      "max_features_w: 1 \\max_features_r: 10 \\RMSE: 0.7854228593941169\n",
      "max_features_w: 2 \\max_features_r: 1 \\RMSE: 0.7794170188098377\n",
      "max_features_w: 2 \\max_features_r: 2 \\RMSE: 0.7784602308928206\n",
      "max_features_w: 2 \\max_features_r: 3 \\RMSE: 0.7777924823592807\n",
      "max_features_w: 2 \\max_features_r: 4 \\RMSE: 0.7774981538911583\n",
      "max_features_w: 2 \\max_features_r: 5 \\RMSE: 0.7796643251128942\n",
      "max_features_w: 2 \\max_features_r: 6 \\RMSE: 0.7803246536756727\n",
      "max_features_w: 2 \\max_features_r: 7 \\RMSE: 0.7791488618547899\n",
      "max_features_w: 2 \\max_features_r: 8 \\RMSE: 0.7807867954632384\n",
      "max_features_w: 2 \\max_features_r: 9 \\RMSE: 0.7823862597541911\n",
      "max_features_w: 2 \\max_features_r: 10 \\RMSE: 0.7802302478635504\n",
      "max_features_w: 3 \\max_features_r: 1 \\RMSE: 0.7826857443176546\n",
      "max_features_w: 3 \\max_features_r: 2 \\RMSE: 0.7817329571083527\n",
      "max_features_w: 3 \\max_features_r: 3 \\RMSE: 0.7810680064900097\n",
      "max_features_w: 3 \\max_features_r: 4 \\RMSE: 0.7807749127961434\n",
      "max_features_w: 3 \\max_features_r: 5 \\RMSE: 0.7829320181225256\n",
      "max_features_w: 3 \\max_features_r: 6 \\RMSE: 0.7835895930151985\n",
      "max_features_w: 3 \\max_features_r: 7 \\RMSE: 0.7824187076478174\n",
      "max_features_w: 3 \\max_features_r: 8 \\RMSE: 0.7840498103548134\n",
      "max_features_w: 3 \\max_features_r: 9 \\RMSE: 0.7856426316079204\n",
      "max_features_w: 3 \\max_features_r: 10 \\RMSE: 0.7834955806058405\n",
      "max_features_w: 4 \\max_features_r: 1 \\RMSE: 0.7731532905850071\n",
      "max_features_w: 4 \\max_features_r: 2 \\RMSE: 0.7721887415740487\n",
      "max_features_w: 4 \\max_features_r: 3 \\RMSE: 0.7715155650708684\n",
      "max_features_w: 4 \\max_features_r: 4 \\RMSE: 0.7712188410796048\n",
      "max_features_w: 4 \\max_features_r: 5 \\RMSE: 0.7734025998054016\n",
      "max_features_w: 4 \\max_features_r: 6 \\RMSE: 0.7740682700292448\n",
      "max_features_w: 4 \\max_features_r: 7 \\RMSE: 0.7728829603902678\n",
      "max_features_w: 4 \\max_features_r: 8 \\RMSE: 0.7745341448262706\n",
      "max_features_w: 4 \\max_features_r: 9 \\RMSE: 0.7761464945383455\n",
      "max_features_w: 4 \\max_features_r: 10 \\RMSE: 0.7739731010915216\n",
      "max_features_w: 5 \\max_features_r: 1 \\RMSE: 0.7721901372825507\n",
      "max_features_w: 5 \\max_features_r: 2 \\RMSE: 0.7712243836833306\n",
      "max_features_w: 5 \\max_features_r: 3 \\RMSE: 0.7705503646878907\n",
      "max_features_w: 5 \\max_features_r: 4 \\RMSE: 0.7702532688734198\n",
      "max_features_w: 5 \\max_features_r: 5 \\RMSE: 0.7724397573660837\n",
      "max_features_w: 5 \\max_features_r: 6 \\RMSE: 0.773106256629765\n",
      "max_features_w: 5 \\max_features_r: 7 \\RMSE: 0.771919469786612\n",
      "max_features_w: 5 \\max_features_r: 8 \\RMSE: 0.7735727107879273\n",
      "max_features_w: 5 \\max_features_r: 9 \\RMSE: 0.7751870602365483\n",
      "max_features_w: 5 \\max_features_r: 10 \\RMSE: 0.773010969254154\n",
      "max_features_w: 6 \\max_features_r: 1 \\RMSE: 0.7793966054938488\n",
      "max_features_w: 6 \\max_features_r: 2 \\RMSE: 0.778439792486627\n",
      "max_features_w: 6 \\max_features_r: 3 \\RMSE: 0.7777720264058943\n",
      "max_features_w: 6 \\max_features_r: 4 \\RMSE: 0.7774776901937949\n",
      "max_features_w: 6 \\max_features_r: 5 \\RMSE: 0.7796439182720942\n",
      "max_features_w: 6 \\max_features_r: 6 \\RMSE: 0.7803042641040594\n",
      "max_features_w: 6 \\max_features_r: 7 \\RMSE: 0.7791284415130371\n",
      "max_features_w: 6 \\max_features_r: 8 \\RMSE: 0.780766417960373\n",
      "max_features_w: 6 \\max_features_r: 9 \\RMSE: 0.7823659239109739\n",
      "max_features_w: 6 \\max_features_r: 10 \\RMSE: 0.780209855824788\n",
      "max_features_w: 7 \\max_features_r: 1 \\RMSE: 0.778599786088429\n",
      "max_features_w: 7 \\max_features_r: 2 \\RMSE: 0.7776419926728725\n",
      "max_features_w: 7 \\max_features_r: 3 \\RMSE: 0.7769735409273241\n",
      "max_features_w: 7 \\max_features_r: 4 \\RMSE: 0.7766789021150836\n",
      "max_features_w: 7 \\max_features_r: 5 \\RMSE: 0.778847351886284\n",
      "max_features_w: 7 \\max_features_r: 6 \\RMSE: 0.7795083725147477\n",
      "max_features_w: 7 \\max_features_r: 7 \\RMSE: 0.7783313475738639\n",
      "max_features_w: 7 \\max_features_r: 8 \\RMSE: 0.7799709979584402\n",
      "max_features_w: 7 \\max_features_r: 9 \\RMSE: 0.7815721317566824\n",
      "max_features_w: 7 \\max_features_r: 10 \\RMSE: 0.7794138678313014\n",
      "max_features_w: 8 \\max_features_r: 1 \\RMSE: 0.7811895017109365\n",
      "max_features_w: 8 \\max_features_r: 2 \\RMSE: 0.7802348873606394\n",
      "max_features_w: 8 \\max_features_r: 3 \\RMSE: 0.7795686589310643\n",
      "max_features_w: 8 \\max_features_r: 4 \\RMSE: 0.7792750013166888\n",
      "max_features_w: 8 \\max_features_r: 5 \\RMSE: 0.7814362470647948\n",
      "max_features_w: 8 \\max_features_r: 6 \\RMSE: 0.7820950795824153\n",
      "max_features_w: 8 \\max_features_r: 7 \\RMSE: 0.780921953400326\n",
      "max_features_w: 8 \\max_features_r: 8 \\RMSE: 0.7825561758383349\n",
      "max_features_w: 8 \\max_features_r: 9 \\RMSE: 0.7841520310661183\n",
      "max_features_w: 8 \\max_features_r: 10 \\RMSE: 0.7820008875021712\n",
      "max_features_w: 9 \\max_features_r: 1 \\RMSE: 0.7825075479238351\n",
      "max_features_w: 9 \\max_features_r: 2 \\RMSE: 0.781554543476693\n",
      "max_features_w: 9 \\max_features_r: 3 \\RMSE: 0.7808894409338432\n",
      "max_features_w: 9 \\max_features_r: 4 \\RMSE: 0.7805962801932363\n",
      "max_features_w: 9 \\max_features_r: 5 \\RMSE: 0.7827538777937181\n",
      "max_features_w: 9 \\max_features_r: 6 \\RMSE: 0.7834116022126661\n",
      "max_features_w: 9 \\max_features_r: 7 \\RMSE: 0.7822404504223577\n",
      "max_features_w: 9 \\max_features_r: 8 \\RMSE: 0.7838719240520807\n",
      "max_features_w: 9 \\max_features_r: 9 \\RMSE: 0.7854651060355965\n",
      "max_features_w: 9 \\max_features_r: 10 \\RMSE: 0.7833175684411626\n",
      "max_features_w: 10 \\max_features_r: 1 \\RMSE: 0.7834632404442861\n",
      "max_features_w: 10 \\max_features_r: 2 \\RMSE: 0.7825113999161609\n",
      "max_features_w: 10 \\max_features_r: 3 \\RMSE: 0.7818471113534015\n",
      "max_features_w: 10 \\max_features_r: 4 \\RMSE: 0.7815543098347072\n",
      "max_features_w: 10 \\max_features_r: 5 \\RMSE: 0.7837092699278164\n",
      "max_features_w: 10 \\max_features_r: 6 \\RMSE: 0.7843661932102279\n",
      "max_features_w: 10 \\max_features_r: 7 \\RMSE: 0.7831964688675894\n",
      "max_features_w: 10 \\max_features_r: 8 \\RMSE: 0.7848259551561728\n",
      "max_features_w: 10 \\max_features_r: 9 \\RMSE: 0.7864172043954779\n",
      "max_features_w: 10 \\max_features_r: 10 \\RMSE: 0.7842722738936164\n"
     ]
    }
   ],
   "source": [
    "#check test\n",
    "#n_estimators=100, *, criterion='squared_error', max_depth=None, min_samples_split=2, min_samples_leaf=1, \n",
    "#min_weight_fraction_leaf=0.0, max_features=1.0, max_leaf_nodes=None, min_impurity_decrease=0.0, bootstrap=True, \n",
    "#oob_score=False, n_jobs=None, random_state=None, verbose=0, warm_start=False, ccp_alpha=0.0, max_samples=None\n",
    "## w = random_state=5,n_estimators = 98,criterion='friedman_mse',max_depth = 19,max_features = 8\n",
    "## r = random_state=37,n_estimators = 86,criterion='squared_error',max_depth = 25,max_features = 4\n",
    "for i in range(1,11):\n",
    "    from sklearn.ensemble import RandomForestRegressor, GradientBoostingRegressor\n",
    "    rf_w_model = RandomForestRegressor(\n",
    "                        random_state=29,n_estimators = 88,criterion='friedman_mse',max_depth = 30,max_features = i\n",
    "                                      )\n",
    "    rf_w_model.fit(new_x_w_train,y_w_train)\n",
    "    y_w_rf_predict = rf_w_model.predict(new_xt_w)\n",
    "    df_w = pd.DataFrame({'id':idt_w,'quality':y_w_rf_predict})\n",
    "    \n",
    "    for j in range(1,11):\n",
    "        from sklearn.ensemble import RandomForestRegressor, GradientBoostingRegressor\n",
    "        rf_r_model = RandomForestRegressor(\n",
    "                        random_state=37,n_estimators = 99,criterion='friedman_mse',max_depth = 19,max_features = j\n",
    "                                          )\n",
    "        rf_r_model.fit(new_x_r_train,y_r_train)\n",
    "        y_r_rf_predict = rf_r_model.predict(new_xt_r)\n",
    "        df_r = pd.DataFrame({'id':idt_r,'quality':y_r_rf_predict})\n",
    "        \n",
    "        fn_df = pd.concat([df_w,df_r])\n",
    "        fn_df = fn_df.sort_values('id')\n",
    "        \n",
    "        data_predict = fn_df['quality']\n",
    "        \n",
    "        mse = sklearn.metrics.mean_squared_error(data_result, data_predict)\n",
    "        rmse = math.sqrt(mse)  \n",
    "        print(\"max_features_w:\",i,\"\\\\max_features_r:\",j,\"\\\\RMSE:\", rmse)\n",
    "        "
   ]
  },
  {
   "cell_type": "code",
   "execution_count": 64,
   "id": "0b3cc2fb",
   "metadata": {},
   "outputs": [],
   "source": [
    "# random_state_w: 39 \\random_state_r: 37 \\RMSE: 0.7827599549152794\n",
    "#     n_estimators_w: 82 \\n_estimators_r: 86 \\RMSE: 0.7819004334572324\n",
    "#         criterion_w: friedman_mse \\criterion_r: squared_error \\RMSE: 0.781822956068837\n",
    "#             max_depth_w: 24 \\max_depth_r: 25 \\RMSE: 0.7801985327170329\n",
    "#                 max_features_w: 4 \\max_features_r: 4 \\RMSE: 0.7703313926586907\n",
    "#                 max_features_w: 3 \\max_features_r: 4 \\RMSE: 0.770658930072413\n",
    "## w = random_state=39,n_estimators = 82,criterion='friedman_mse',max_depth = 24,max_features = 4\n",
    "## r = random_state=37,n_estimators = 86,criterion='squared_error',max_depth = 25,max_features = 4\n",
    "\n",
    "#     n_estimators_w: 82 \\n_estimators_r: 99 \\RMSE: 0.7819324657719762\n",
    "#         criterion_w: friedman_mse \\criterion_r: squared_error \\RMSE: 0.7818549915578011\n",
    "#             max_depth_w: 24 \\max_depth_r: 19 \\RMSE: 0.7802065652649568\n",
    "#                 max_features_w: 4 \\max_features_r: 4 \\RMSE: 0.7717464469448592\n",
    "## w = random_state=39,n_estimators = 82,criterion='friedman_mse',max_depth = 24,max_features = 4\n",
    "## r = random_state=37,n_estimators = 99,criterion='squared_error',max_depth = 19,max_features = 4\n",
    "\n",
    "#             max_depth_w: 24 \\max_depth_r: 27 \\RMSE: 0.7802494730802145\n",
    "#                 max_features_w: 4 \\max_features_r: 4 \\RMSE: 0.7710130899903652\n",
    "#                 max_features_w: 3 \\max_features_r: 4 \\RMSE: 0.7713403379322059\n",
    "## w = random_state=39,n_estimators = 82,criterion='friedman_mse',max_depth = 24,max_features = i\n",
    "## r = random_state=37,n_estimators = 99,criterion='squared_error',max_depth = 27,max_features = j\n",
    "##############################################################\n",
    "\n",
    "# random_state_w: 29 \\random_state_r: 37 \\RMSE: 0.7832136584763114\n",
    "#     n_estimators_w: 88 \\n_estimators_r: 86 \\RMSE: 0.7813138790604275\n",
    "#         criterion_w: friedman_mse \\criterion_r: squared_error \\RMSE: 0.7806980850282755\n",
    "#             max_depth_w: 30 \\max_depth_r: 25 \\RMSE: 0.7805631593966947\n",
    "#                 max_features_w: 5 \\max_features_r: 4 \\RMSE: 0.7684107631456742\n",
    "#                 max_features_w: 4 \\max_features_r: 4 \\RMSE: 0.76937864770482\n",
    "## w = random_state=29,n_estimators = 88,criterion='friedman_mse',max_depth = 30,max_features = 5\n",
    "## r = random_state=37,n_estimators = 86,criterion='squared_error',max_depth = 25,max_features = 4\n",
    "\n",
    "#         criterion_w: friedman_mse \\criterion_r: friedman_mse \\RMSE: 0.7807837947346199\n",
    "#             max_depth_w: 30 \\max_depth_r: 25 \\RMSE: 0.7806482434453704\n",
    "#                 max_features_w: 5 \\max_features_r: 4 \\RMSE: 0.7686871234895877\n",
    "#                 max_features_w: 4 \\max_features_r: 4 \\RMSE: 0.7696546605099437\n",
    "## w = random_state=29,n_estimators = 88,criterion='friedman_mse',max_depth = 30,max_features = 5\n",
    "## r = random_state=37,n_estimators = 86,criterion='friedman_mse',max_depth = 25,max_features = 4\n",
    "\n",
    "#     n_estimators_w: 88 \\n_estimators_r: 99 \\RMSE: 0.7813459354217485\n",
    "#         criterion_w: friedman_mse \\criterion_r: squared_error \\RMSE: 0.780730166673769\n",
    "#             max_depth_w: 30 \\max_depth_r: 19 \\RMSE: 0.7805711881923905\n",
    "#                 max_features_w: 5 \\max_features_r: 4 \\RMSE: 0.7698293478262919\n",
    "## w = random_state=29,n_estimators = 88,criterion='friedman_mse',max_depth = 30,max_features = 5\n",
    "## r = random_state=37,n_estimators = 99,criterion='squared_error',max_depth = 19,max_features = 4\n",
    "\n",
    "#         criterion_w: friedman_mse \\criterion_r: friedman_mse \\RMSE: 0.7808049621609762\n",
    "#             max_depth_w: 30 \\max_depth_r: 19 \\RMSE: 0.7805992645052684\n",
    "#                 max_features_w: 5 \\max_features_r: 4 \\RMSE: 0.7702532688734198\n",
    "## w = random_state=29,n_estimators = 88,criterion='friedman_mse',max_depth = 30,max_features = i\n",
    "## r = random_state=37,n_estimators = 99,criterion='friedman_mse',max_depth = 19,max_features = j\n",
    "\n",
    "\n",
    "###########################################################\n",
    "# random_state_w: 5 \\random_state_r: 37 \\RMSE: 0.7835355149044179\n",
    "#     n_estimators_w: 98 \\n_estimators_r: 86 \\RMSE: 0.7825475644476488\n",
    "#         criterion_w: friedman_mse \\criterion_r: squared_error \\RMSE: 0.782002409566692\n",
    "#             max_depth_w: 19 \\max_depth_r: 25 \\RMSE: 0.7783873252094111\n",
    "#                 max_features_w: 8 \\max_features_r: 4 \\RMSE: 0.7724936090424419\n",
    "## w = random_state=5,n_estimators = 98,criterion='friedman_mse',max_depth = 19,max_features = 8\n",
    "## r = random_state=37,n_estimators = 86,criterion='squared_error',max_depth = 25,max_features = 4\n",
    "#                 max_features_w: 5 \\max_features_r: 4 \\RMSE: 0.7730882265169841\n",
    "## w = random_state=5,n_estimators = 98,criterion='friedman_mse',max_depth = 19,max_features = 5\n",
    "## r = random_state=37,n_estimators = 86,criterion='squared_error',max_depth = 25,max_features = 4\n",
    "#     n_estimators_w: 98 \\n_estimators_r: 99 \\RMSE:\n",
    "#         criterion_w: friedman_mse \\criterion_r: squared_error \\RMSE:\n",
    "#             max_depth_w: 19 \\max_depth_r: 19 \\RMSE: 0.7783382039952075\n",
    "#                 max_features_w: 8 \\max_features_r: 3 \\RMSE: 0.7742021784142138\n",
    "## w = random_state=5,n_estimators = 98,criterion='friedman_mse',max_depth = 19,max_features = 8\n",
    "## r = random_state=37,n_estimators = 99,criterion='squared_error',max_depth = 19,max_features = 3"
   ]
  },
  {
   "cell_type": "code",
   "execution_count": null,
   "id": "3ffdaf84",
   "metadata": {},
   "outputs": [],
   "source": []
  },
  {
   "cell_type": "code",
   "execution_count": null,
   "id": "caa1a604",
   "metadata": {},
   "outputs": [],
   "source": []
  }
 ],
 "metadata": {
  "kernelspec": {
   "display_name": "Python 3 (ipykernel)",
   "language": "python",
   "name": "python3"
  },
  "language_info": {
   "codemirror_mode": {
    "name": "ipython",
    "version": 3
   },
   "file_extension": ".py",
   "mimetype": "text/x-python",
   "name": "python",
   "nbconvert_exporter": "python",
   "pygments_lexer": "ipython3",
   "version": "3.9.12"
  }
 },
 "nbformat": 4,
 "nbformat_minor": 5
}
