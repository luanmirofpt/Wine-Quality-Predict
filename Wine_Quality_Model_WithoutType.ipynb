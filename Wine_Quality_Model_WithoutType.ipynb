{
 "cells": [
  {
   "cell_type": "code",
   "execution_count": 1,
   "id": "cd4b8220",
   "metadata": {},
   "outputs": [],
   "source": [
    "#Import Libraries\n",
    "import pandas as pd\n",
    "import numpy as np"
   ]
  },
  {
   "cell_type": "code",
   "execution_count": 2,
   "id": "0bac8fb2",
   "metadata": {},
   "outputs": [],
   "source": [
    "new_x_w_train = pd.read_csv(\"new_x_w_train.csv\")\n",
    "y_w_train= pd.read_csv(\"y_w_train.csv\")\n",
    "new_x_w_valid= pd.read_csv(\"new_x_w_valid.csv\")\n",
    "y_w_valid= pd.read_csv(\"y_w_valid.csv\")\n",
    "new_xt_w= pd.read_csv(\"new_xt_w.csv\")\n",
    "idt_w= pd.read_csv(\"idt_w.csv\")\n",
    "\n",
    "new_x_r_train = pd.read_csv(\"new_x_r_train.csv\")\n",
    "y_r_train= pd.read_csv(\"y_r_train.csv\")\n",
    "new_x_r_valid= pd.read_csv(\"new_x_r_valid.csv\")\n",
    "y_r_valid= pd.read_csv(\"y_r_valid.csv\")\n",
    "new_xt_r= pd.read_csv(\"new_xt_r.csv\")\n",
    "idt_r= pd.read_csv(\"idt_r.csv\")\n",
    "\n",
    "check = pd.read_csv(\"check.csv\")"
   ]
  },
  {
   "cell_type": "code",
   "execution_count": 3,
   "id": "2c72a80a",
   "metadata": {},
   "outputs": [
    {
     "name": "stderr",
     "output_type": "stream",
     "text": [
      "C:\\Users\\Luan Miro\\anaconda3\\lib\\site-packages\\xgboost\\compat.py:36: FutureWarning: pandas.Int64Index is deprecated and will be removed from pandas in a future version. Use pandas.Index with the appropriate dtype instead.\n",
      "  from pandas import MultiIndex, Int64Index\n",
      "C:\\Users\\Luan Miro\\anaconda3\\lib\\site-packages\\xgboost\\data.py:250: FutureWarning: pandas.Int64Index is deprecated and will be removed from pandas in a future version. Use pandas.Index with the appropriate dtype instead.\n",
      "  elif isinstance(data.columns, (pd.Int64Index, pd.RangeIndex)):\n"
     ]
    },
    {
     "name": "stdout",
     "output_type": "stream",
     "text": [
      "RMSE_w: 0.6966604767224693\n"
     ]
    }
   ],
   "source": [
    "# XgBoost\n",
    "import xgboost as xgb_w\n",
    "model_xgb_w = xgb_w.XGBRegressor(base_score=0.7,learning_rate =0.18,colsample_bylevel=0.8,\n",
    "                                colsample_bynode=0.5,colsample_bytree=0.8,max_depth=10,min_child_weight=9,\n",
    "                                n_estimators = 144, random_state = 30)\n",
    "model_xgb_w.fit(new_x_w_train, y_w_train)\n",
    "#test model\n",
    "y_w_xgb_valid = model_xgb_w.predict(new_x_w_valid)\n",
    "import math  \n",
    "import sklearn.metrics  \n",
    "mse = sklearn.metrics.mean_squared_error(y_w_valid, y_w_xgb_valid)\n",
    "rmse = math.sqrt(mse)  \n",
    "print(\"RMSE_w:\", rmse)"
   ]
  },
  {
   "cell_type": "code",
   "execution_count": 4,
   "id": "842c9a05",
   "metadata": {},
   "outputs": [
    {
     "name": "stderr",
     "output_type": "stream",
     "text": [
      "C:\\Users\\Luan Miro\\anaconda3\\lib\\site-packages\\xgboost\\data.py:250: FutureWarning: pandas.Int64Index is deprecated and will be removed from pandas in a future version. Use pandas.Index with the appropriate dtype instead.\n",
      "  elif isinstance(data.columns, (pd.Int64Index, pd.RangeIndex)):\n"
     ]
    },
    {
     "name": "stdout",
     "output_type": "stream",
     "text": [
      "RMSE_r: 0.6580417997450234\n"
     ]
    }
   ],
   "source": [
    "import xgboost as xgb_r\n",
    "model_xgb_r = xgb_r.XGBRegressor(base_score=0.7,learning_rate =0.18,colsample_bylevel=0.8,\n",
    "                                colsample_bynode=0.5,colsample_bytree=0.8,max_depth=10,min_child_weight=9,\n",
    "                                n_estimators = 144, random_state = 30)\n",
    "model_xgb_r.fit(new_x_r_train, y_r_train)\n",
    "#test model\n",
    "y_r_xgb_valid = model_xgb_r.predict(new_x_r_valid)\n",
    "\n",
    "import math  \n",
    "import sklearn.metrics  \n",
    "mse = sklearn.metrics.mean_squared_error(y_r_valid, y_r_xgb_valid)\n",
    "rmse = math.sqrt(mse)  \n",
    "print(\"RMSE_r:\", rmse)"
   ]
  },
  {
   "cell_type": "code",
   "execution_count": 5,
   "id": "17f2bedd",
   "metadata": {},
   "outputs": [
    {
     "name": "stdout",
     "output_type": "stream",
     "text": [
      "RMSE: 0.8403037505025679\n"
     ]
    }
   ],
   "source": [
    "#print result\n",
    "y_w_xgb_predict = model_xgb_w.predict(new_xt_w)\n",
    "y_w_xgb_predict = pd.DataFrame(y_w_xgb_predict)\n",
    "df_w = pd.DataFrame()\n",
    "df_w['id'] = idt_w\n",
    "df_w['quality'] = y_w_xgb_predict\n",
    "\n",
    "y_r_xgb_predict = model_xgb_w.predict(new_xt_r)\n",
    "y_r_xgb_predict = pd.DataFrame(y_r_xgb_predict)\n",
    "df_r = pd.DataFrame()\n",
    "df_r['id'] = idt_r\n",
    "df_r['quality'] = y_r_xgb_predict\n",
    "\n",
    "fn_xgb = pd.concat([df_w,df_r])\n",
    "fn_xgb = fn_xgb.sort_values('id')\n",
    "fn_xgb.to_csv(\"sm_xgb_withouttype.csv\",index=False)\n",
    "\n",
    "import math\n",
    "import sklearn.metrics  \n",
    "mse = sklearn.metrics.mean_squared_error(check, fn_xgb['quality'])\n",
    "rmse = math.sqrt(mse)\n",
    "print(\"RMSE:\", rmse)"
   ]
  },
  {
   "cell_type": "code",
   "execution_count": null,
   "id": "0ec54e6c",
   "metadata": {},
   "outputs": [],
   "source": []
  },
  {
   "cell_type": "code",
   "execution_count": null,
   "id": "448ac771",
   "metadata": {},
   "outputs": [],
   "source": []
  },
  {
   "cell_type": "code",
   "execution_count": null,
   "id": "bbbc6530",
   "metadata": {},
   "outputs": [],
   "source": []
  }
 ],
 "metadata": {
  "kernelspec": {
   "display_name": "Python 3 (ipykernel)",
   "language": "python",
   "name": "python3"
  },
  "language_info": {
   "codemirror_mode": {
    "name": "ipython",
    "version": 3
   },
   "file_extension": ".py",
   "mimetype": "text/x-python",
   "name": "python",
   "nbconvert_exporter": "python",
   "pygments_lexer": "ipython3",
   "version": "3.9.12"
  }
 },
 "nbformat": 4,
 "nbformat_minor": 5
}
