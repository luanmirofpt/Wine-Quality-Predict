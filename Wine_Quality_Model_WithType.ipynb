{
 "cells": [
  {
   "cell_type": "code",
   "execution_count": 1,
   "id": "d0c59e15",
   "metadata": {},
   "outputs": [],
   "source": [
    "#Import Libraries\n",
    "import pandas as pd\n",
    "import numpy as np"
   ]
  },
  {
   "cell_type": "code",
   "execution_count": 2,
   "id": "9a2e8353",
   "metadata": {},
   "outputs": [],
   "source": [
    "new_xtrain = pd.read_csv(\"new_xtrain.csv\")\n",
    "y_train= pd.read_csv(\"y_train.csv\")\n",
    "new_xvalid= pd.read_csv(\"new_xvalid.csv\")\n",
    "y_valid= pd.read_csv(\"y_valid.csv\")\n",
    "new_xt= pd.read_csv(\"new_xt.csv\")\n",
    "idt= pd.read_csv(\"idt.csv\")"
   ]
  },
  {
   "cell_type": "code",
   "execution_count": 3,
   "id": "4da131bc",
   "metadata": {},
   "outputs": [
    {
     "name": "stderr",
     "output_type": "stream",
     "text": [
      "C:\\Users\\Luan Miro\\anaconda3\\lib\\site-packages\\xgboost\\compat.py:36: FutureWarning: pandas.Int64Index is deprecated and will be removed from pandas in a future version. Use pandas.Index with the appropriate dtype instead.\n",
      "  from pandas import MultiIndex, Int64Index\n",
      "C:\\Users\\Luan Miro\\anaconda3\\lib\\site-packages\\xgboost\\data.py:250: FutureWarning: pandas.Int64Index is deprecated and will be removed from pandas in a future version. Use pandas.Index with the appropriate dtype instead.\n",
      "  elif isinstance(data.columns, (pd.Int64Index, pd.RangeIndex)):\n"
     ]
    },
    {
     "name": "stdout",
     "output_type": "stream",
     "text": [
      "RMSE: 0.7289352942988611\n"
     ]
    }
   ],
   "source": [
    "# XgBoost\n",
    "import xgboost as xgb\n",
    "model_xgb = xgb.XGBRegressor(base_score=0.8,colsample_bylevel=0.6,colsample_bynode=0.6,colsample_bytree=0.9\n",
    "                            ,max_depth=10,min_child_weight=1,learning_rate =0.08,n_estimators = 184, random_state = 0)\n",
    "model_xgb.fit(new_xtrain, y_train)\n",
    "#test model\n",
    "y_xgb_valid = model_xgb.predict(new_xvalid)\n",
    "import math  \n",
    "import sklearn.metrics  \n",
    "mse = sklearn.metrics.mean_squared_error(y_valid, y_xgb_valid)\n",
    "rmse = math.sqrt(mse)  \n",
    "print(\"RMSE:\", rmse)  \n",
    "# i: 0.8 j: 0.6 k: 0.6 h: 0.9 10 2 0.08 j: 184 k: 0 \n",
    "# i: 0.8 j: 0.6 k: 0.6 h: 0.9 10 1 0.08 j: 142 k: 0 "
   ]
  },
  {
   "cell_type": "code",
   "execution_count": 4,
   "id": "07c9f90e",
   "metadata": {},
   "outputs": [],
   "source": [
    "#print result\n",
    "y_xgb_predict = model_xgb.predict(new_xt)\n",
    "y_xgb_predict = pd.DataFrame(y_xgb_predict)\n",
    "df_xgb = pd.DataFrame()\n",
    "df_xgb['id'] = idt\n",
    "df_xgb['quality'] = y_xgb_predict\n",
    "df_xgb.to_csv(\"sm_xgb_withtype.csv\",index=False)"
   ]
  },
  {
   "cell_type": "code",
   "execution_count": 5,
   "id": "bdb37769",
   "metadata": {},
   "outputs": [
    {
     "name": "stderr",
     "output_type": "stream",
     "text": [
      "C:\\Users\\Luan Miro\\AppData\\Local\\Temp\\ipykernel_8680\\4148576616.py:5: DataConversionWarning: A column-vector y was passed when a 1d array was expected. Please change the shape of y to (n_samples,), for example using ravel().\n",
      "  rf_model.fit(new_xtrain,y_train)\n"
     ]
    },
    {
     "name": "stdout",
     "output_type": "stream",
     "text": [
      "RMSE: 0.7693942025971191\n"
     ]
    }
   ],
   "source": [
    "#RandomForestRegressor\n",
    "# from sklearn.ensemble import RandomForestRegressor\n",
    "# rf_model = RandomForestRegressor(random_state = 2,n_estimators=83,criterion='friedman_mse',max_depth = 9)\n",
    "# #fit training data\n",
    "# rf_model.fit(new_xtrain,y_train)\n",
    "# #test model\n",
    "# y_rf_valid = rf_model.predict(new_xvalid)\n",
    "# import math\n",
    "# import sklearn.metrics  \n",
    "# mse = sklearn.metrics.mean_squared_error(y_valid, y_rf_valid)\n",
    "# rmse = math.sqrt(mse)  \n",
    "# print(\"RMSE:\", rmse) "
   ]
  },
  {
   "cell_type": "code",
   "execution_count": 6,
   "id": "bf3d6c25",
   "metadata": {},
   "outputs": [],
   "source": [
    "#print result\n",
    "# y_fr_predict = rf_model.predict(new_xt)\n",
    "# y_fr_predict = pd.DataFrame(y_fr_predict)\n",
    "# df_fr = pd.DataFrame()\n",
    "# df_fr['id'] = idt\n",
    "# df_fr['quality'] = y_fr_predict\n",
    "# df_fr.to_csv(\"sm_rf_withtype.csv\",index=False)"
   ]
  },
  {
   "cell_type": "code",
   "execution_count": null,
   "id": "8cdd01db",
   "metadata": {},
   "outputs": [],
   "source": []
  }
 ],
 "metadata": {
  "kernelspec": {
   "display_name": "Python 3 (ipykernel)",
   "language": "python",
   "name": "python3"
  },
  "language_info": {
   "codemirror_mode": {
    "name": "ipython",
    "version": 3
   },
   "file_extension": ".py",
   "mimetype": "text/x-python",
   "name": "python",
   "nbconvert_exporter": "python",
   "pygments_lexer": "ipython3",
   "version": "3.9.12"
  }
 },
 "nbformat": 4,
 "nbformat_minor": 5
}
