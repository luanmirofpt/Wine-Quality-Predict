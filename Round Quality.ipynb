{
 "cells": [
  {
   "cell_type": "code",
   "execution_count": 1,
   "id": "c4ef4822",
   "metadata": {},
   "outputs": [],
   "source": [
    "#Import Libraries\n",
    "import pandas as pd\n",
    "import numpy as np\n",
    "import math"
   ]
  },
  {
   "cell_type": "code",
   "execution_count": 2,
   "id": "2e886eaa",
   "metadata": {},
   "outputs": [],
   "source": [
    "data_quality = pd.read_csv(\"sm_xgb_withtype.csv\")\n",
    "id_w = pd.read_csv(\"idt_w.csv\")\n",
    "id_r = pd.read_csv(\"idt_r.csv\")"
   ]
  },
  {
   "cell_type": "code",
   "execution_count": 3,
   "id": "4b9cf009",
   "metadata": {},
   "outputs": [],
   "source": [
    "dt_id = data_quality['id']\n",
    "dt_qt = data_quality['quality']"
   ]
  },
  {
   "cell_type": "code",
   "execution_count": 5,
   "id": "3e5aa86a",
   "metadata": {},
   "outputs": [],
   "source": [
    "df = pd.DataFrame()\n",
    "df = dt_qt\n",
    "a = 0.55\n",
    "b = 0.05\n",
    "c = 0.55\n",
    "d = 0.05\n",
    "for i in range(820):\n",
    "    pd.options.mode.chained_assignment = None\n",
    "    if dt_id[i] in id_w['id']:\n",
    "        if df[i]-math.floor(df[i]) >= a:\n",
    "            df[i] = math.floor(df[i]) + 1\n",
    "        if df[i]-math.floor(df[i]) <= b:\n",
    "            df[i] = math.floor(df[i])\n",
    "    else:\n",
    "        if df[i]-math.floor(df[i]) >= c:\n",
    "            df[i] = math.floor(df[i]) + 1\n",
    "        if df[i]-math.floor(df[i]) <= d:\n",
    "            df[i] = math.floor(df[i])"
   ]
  },
  {
   "cell_type": "code",
   "execution_count": 6,
   "id": "dad30252",
   "metadata": {},
   "outputs": [],
   "source": [
    "submit = pd.DataFrame()\n",
    "submit['id'] = dt_id\n",
    "submit['quality'] = df\n",
    "submit.to_csv(\"submit1.csv\",index = False)"
   ]
  },
  {
   "cell_type": "code",
   "execution_count": null,
   "id": "b793168c",
   "metadata": {},
   "outputs": [],
   "source": []
  }
 ],
 "metadata": {
  "kernelspec": {
   "display_name": "Python 3 (ipykernel)",
   "language": "python",
   "name": "python3"
  },
  "language_info": {
   "codemirror_mode": {
    "name": "ipython",
    "version": 3
   },
   "file_extension": ".py",
   "mimetype": "text/x-python",
   "name": "python",
   "nbconvert_exporter": "python",
   "pygments_lexer": "ipython3",
   "version": "3.9.12"
  }
 },
 "nbformat": 4,
 "nbformat_minor": 5
}
